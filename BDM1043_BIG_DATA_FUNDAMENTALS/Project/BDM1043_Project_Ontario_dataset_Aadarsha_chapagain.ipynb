{
 "cells": [
  {
   "cell_type": "markdown",
   "id": "9a0f251d",
   "metadata": {},
   "source": [
    "With the covid data set available from goverment of canada ontario, we will try to derive following insights from it\n",
    "1. Find out the case recorded in a area in specific day\n",
    "2. In any group what are the cases recorded so far\n",
    "3. Find out which group has the maximum and minimum number of out breaks among outbreak groups\n",
    "4. Find out the public health unit with maximum and minimum recorded cases.\n",
    "5. Find out how the cases spiked from 2020 to 2021\n",
    "6. Find out the monthly trend in year 2021\n",
    "\n"
   ]
  },
  {
   "cell_type": "code",
   "execution_count": 1,
   "id": "6f3f0b47",
   "metadata": {},
   "outputs": [],
   "source": [
    "import pandas as pd\n",
    "import warnings\n",
    "warnings.simplefilter(action='ignore', category=FutureWarning)\n"
   ]
  },
  {
   "cell_type": "code",
   "execution_count": 2,
   "id": "24d13402",
   "metadata": {},
   "outputs": [],
   "source": [
    "\n",
    "# Load the data available through the path and explore the dataset.\n",
    "url ='https://data.ontario.ca/dataset/5472ffc1-88e2-48ca-bc9f-4aa249c1298d/resource/36048cc1-3c47-48ff-a49f-8c7840e32cc2/download/ongoing_outbreaks_phu.csv'\n",
    "df_raw = pd.read_csv(url)\n"
   ]
  },
  {
   "cell_type": "code",
   "execution_count": 3,
   "id": "8c8120b4",
   "metadata": {},
   "outputs": [
    {
     "data": {
      "text/html": [
       "<div>\n",
       "<style scoped>\n",
       "    .dataframe tbody tr th:only-of-type {\n",
       "        vertical-align: middle;\n",
       "    }\n",
       "\n",
       "    .dataframe tbody tr th {\n",
       "        vertical-align: top;\n",
       "    }\n",
       "\n",
       "    .dataframe thead th {\n",
       "        text-align: right;\n",
       "    }\n",
       "</style>\n",
       "<table border=\"1\" class=\"dataframe\">\n",
       "  <thead>\n",
       "    <tr style=\"text-align: right;\">\n",
       "      <th></th>\n",
       "      <th>date</th>\n",
       "      <th>phu_name</th>\n",
       "      <th>phu_num</th>\n",
       "      <th>outbreak_group</th>\n",
       "      <th>number_ongoing_outbreaks</th>\n",
       "    </tr>\n",
       "  </thead>\n",
       "  <tbody>\n",
       "    <tr>\n",
       "      <th>0</th>\n",
       "      <td>2020-11-01</td>\n",
       "      <td>BRANT COUNTY</td>\n",
       "      <td>2227</td>\n",
       "      <td>4 Workplace</td>\n",
       "      <td>1</td>\n",
       "    </tr>\n",
       "    <tr>\n",
       "      <th>1</th>\n",
       "      <td>2020-11-01</td>\n",
       "      <td>BRANT COUNTY</td>\n",
       "      <td>2227</td>\n",
       "      <td>1 Congregate Care</td>\n",
       "      <td>2</td>\n",
       "    </tr>\n",
       "    <tr>\n",
       "      <th>2</th>\n",
       "      <td>2020-11-01</td>\n",
       "      <td>CHATHAM-KENT</td>\n",
       "      <td>2240</td>\n",
       "      <td>5 Recreational</td>\n",
       "      <td>1</td>\n",
       "    </tr>\n",
       "    <tr>\n",
       "      <th>3</th>\n",
       "      <td>2020-11-01</td>\n",
       "      <td>CHATHAM-KENT</td>\n",
       "      <td>2240</td>\n",
       "      <td>6 Other/Unknown</td>\n",
       "      <td>1</td>\n",
       "    </tr>\n",
       "    <tr>\n",
       "      <th>4</th>\n",
       "      <td>2020-11-01</td>\n",
       "      <td>CHATHAM-KENT</td>\n",
       "      <td>2240</td>\n",
       "      <td>4 Workplace</td>\n",
       "      <td>1</td>\n",
       "    </tr>\n",
       "  </tbody>\n",
       "</table>\n",
       "</div>"
      ],
      "text/plain": [
       "         date      phu_name  phu_num     outbreak_group  \\\n",
       "0  2020-11-01  BRANT COUNTY     2227        4 Workplace   \n",
       "1  2020-11-01  BRANT COUNTY     2227  1 Congregate Care   \n",
       "2  2020-11-01  CHATHAM-KENT     2240     5 Recreational   \n",
       "3  2020-11-01  CHATHAM-KENT     2240    6 Other/Unknown   \n",
       "4  2020-11-01  CHATHAM-KENT     2240        4 Workplace   \n",
       "\n",
       "   number_ongoing_outbreaks  \n",
       "0                         1  \n",
       "1                         2  \n",
       "2                         1  \n",
       "3                         1  \n",
       "4                         1  "
      ]
     },
     "execution_count": 3,
     "metadata": {},
     "output_type": "execute_result"
    }
   ],
   "source": [
    "df_raw.shape \n",
    "df_raw.head()"
   ]
  },
  {
   "cell_type": "markdown",
   "id": "e5949322",
   "metadata": {},
   "source": [
    "We can see that there are five columns available and these column represents\n",
    " Date: Date in which cases were recoreded\n",
    " phu_name: name of the public health unit in which the cases were recorded\n",
    " phu_num: Number Assigned to the public health unit.\n",
    " outbreak_group: Places were the covid outbreak occured\n",
    " number_ongoing_outbreaks: number of recorded covid cases"
   ]
  },
  {
   "cell_type": "code",
   "execution_count": 4,
   "id": "edea3421",
   "metadata": {},
   "outputs": [
    {
     "data": {
      "text/plain": [
       "PEEL REGION                                2148\n",
       "TORONTO                                    2110\n",
       "YORK REGION                                1893\n",
       "CITY OF HAMILTON                           1803\n",
       "WATERLOO REGION                            1790\n",
       "DURHAM REGION                              1762\n",
       "NIAGARA REGION                             1679\n",
       "WINDSOR-ESSEX COUNTY                       1653\n",
       "HALTON REGION                              1629\n",
       "CITY OF OTTAWA                             1621\n",
       "MIDDLESEX-LONDON                           1603\n",
       "SIMCOE MUSKOKA DISTRICT                    1486\n",
       "WELLINGTON-DUFFERIN-GUELPH                 1453\n",
       "BRANT COUNTY                               1211\n",
       "SUDBURY AND DISTRICT                       1189\n",
       "OXFORD ELGIN-ST.THOMAS                     1046\n",
       "HALDIMAND-NORFOLK                           955\n",
       "EASTERN ONTARIO                             926\n",
       "KINGSTON, FRONTENAC, LENNOX & ADDINGTON     886\n",
       "THUNDER BAY DISTRICT                        880\n",
       "CHATHAM-KENT                                842\n",
       "LAMBTON COUNTY                              775\n",
       "HURON PERTH                                 751\n",
       "LEEDS, GRENVILLE AND LANARK DISTRICT        736\n",
       "ALGOMA DISTRICT                             726\n",
       "HALIBURTON, KAWARTHA, PINE RIDGE            605\n",
       "HASTINGS & PRINCE EDWARD COUNTIES           601\n",
       "GREY BRUCE                                  544\n",
       "PETERBOROUGH COUNTY-CITY                    536\n",
       "PORCUPINE                                   534\n",
       "NORTHWESTERN                                449\n",
       "RENFREW COUNTY AND DISTRICT                 448\n",
       "NORTH BAY PARRY SOUND DISTRICT              344\n",
       "TIMISKAMING                                 295\n",
       "Name: phu_name, dtype: int64"
      ]
     },
     "execution_count": 4,
     "metadata": {},
     "output_type": "execute_result"
    }
   ],
   "source": [
    "# lets see  how many times the cases were reported in each public health unit that is how many times the phu appears in the dataset\n",
    "df_count= df_raw['phu_name'].value_counts()\n",
    "df_count"
   ]
  },
  {
   "cell_type": "markdown",
   "id": "a09c81f2",
   "metadata": {},
   "source": [
    "## Insight 1: Find out the case recorded in a area in specific day\n"
   ]
  },
  {
   "cell_type": "code",
   "execution_count": 5,
   "id": "d1b6d629",
   "metadata": {},
   "outputs": [
    {
     "name": "stdout",
     "output_type": "stream",
     "text": [
      " Total outbreak in YORK REGION  in the date 2020-11-01 is: 62\n"
     ]
    },
    {
     "data": {
      "text/html": [
       "<div>\n",
       "<style scoped>\n",
       "    .dataframe tbody tr th:only-of-type {\n",
       "        vertical-align: middle;\n",
       "    }\n",
       "\n",
       "    .dataframe tbody tr th {\n",
       "        vertical-align: top;\n",
       "    }\n",
       "\n",
       "    .dataframe thead th {\n",
       "        text-align: right;\n",
       "    }\n",
       "</style>\n",
       "<table border=\"1\" class=\"dataframe\">\n",
       "  <thead>\n",
       "    <tr style=\"text-align: right;\">\n",
       "      <th></th>\n",
       "      <th>date</th>\n",
       "      <th>phu_name</th>\n",
       "      <th>phu_num</th>\n",
       "      <th>outbreak_group</th>\n",
       "      <th>number_ongoing_outbreaks</th>\n",
       "    </tr>\n",
       "  </thead>\n",
       "  <tbody>\n",
       "    <tr>\n",
       "      <th>84</th>\n",
       "      <td>2020-11-01</td>\n",
       "      <td>YORK REGION</td>\n",
       "      <td>2270</td>\n",
       "      <td>6 Other/Unknown</td>\n",
       "      <td>4</td>\n",
       "    </tr>\n",
       "    <tr>\n",
       "      <th>85</th>\n",
       "      <td>2020-11-01</td>\n",
       "      <td>YORK REGION</td>\n",
       "      <td>2270</td>\n",
       "      <td>5 Recreational</td>\n",
       "      <td>5</td>\n",
       "    </tr>\n",
       "    <tr>\n",
       "      <th>86</th>\n",
       "      <td>2020-11-01</td>\n",
       "      <td>YORK REGION</td>\n",
       "      <td>2270</td>\n",
       "      <td>4 Workplace</td>\n",
       "      <td>23</td>\n",
       "    </tr>\n",
       "    <tr>\n",
       "      <th>87</th>\n",
       "      <td>2020-11-01</td>\n",
       "      <td>YORK REGION</td>\n",
       "      <td>2270</td>\n",
       "      <td>3 Education</td>\n",
       "      <td>14</td>\n",
       "    </tr>\n",
       "    <tr>\n",
       "      <th>88</th>\n",
       "      <td>2020-11-01</td>\n",
       "      <td>YORK REGION</td>\n",
       "      <td>2270</td>\n",
       "      <td>2 Congregate Living</td>\n",
       "      <td>5</td>\n",
       "    </tr>\n",
       "    <tr>\n",
       "      <th>89</th>\n",
       "      <td>2020-11-01</td>\n",
       "      <td>YORK REGION</td>\n",
       "      <td>2270</td>\n",
       "      <td>1 Congregate Care</td>\n",
       "      <td>11</td>\n",
       "    </tr>\n",
       "  </tbody>\n",
       "</table>\n",
       "</div>"
      ],
      "text/plain": [
       "          date     phu_name  phu_num       outbreak_group  \\\n",
       "84  2020-11-01  YORK REGION     2270      6 Other/Unknown   \n",
       "85  2020-11-01  YORK REGION     2270       5 Recreational   \n",
       "86  2020-11-01  YORK REGION     2270          4 Workplace   \n",
       "87  2020-11-01  YORK REGION     2270          3 Education   \n",
       "88  2020-11-01  YORK REGION     2270  2 Congregate Living   \n",
       "89  2020-11-01  YORK REGION     2270    1 Congregate Care   \n",
       "\n",
       "    number_ongoing_outbreaks  \n",
       "84                         4  \n",
       "85                         5  \n",
       "86                        23  \n",
       "87                        14  \n",
       "88                         5  \n",
       "89                        11  "
      ]
     },
     "execution_count": 5,
     "metadata": {},
     "output_type": "execute_result"
    }
   ],
   "source": [
    "# Find out  out breaks is specific month and city.\n",
    "df_filter_date = df_raw.loc[df_raw['date'] == '2020-11-01']\n",
    "df_filter_city =df_filter_date.loc[df_filter_date['phu_name'] == 'YORK REGION']\n",
    "df_filter_city_totaL_outbreaks = df_filter_city['number_ongoing_outbreaks'].sum()\n",
    "print(\" Total outbreak in YORK REGION  in the date 2020-11-01 is:\",  df_filter_city_totaL_outbreaks)\n",
    "df_filter_city\n",
    "\n"
   ]
  },
  {
   "cell_type": "markdown",
   "id": "84acc0c0",
   "metadata": {},
   "source": [
    "Here we can see the out break in York Region including all group was 62 and the divided data as above, We can see the aggregated data for any region at any date. "
   ]
  },
  {
   "cell_type": "code",
   "execution_count": 6,
   "id": "68514ef3",
   "metadata": {},
   "outputs": [
    {
     "data": {
      "text/plain": [
       "array(['4 Workplace', '1 Congregate Care', '5 Recreational',\n",
       "       '6 Other/Unknown', '3 Education', '2 Congregate Living'],\n",
       "      dtype=object)"
      ]
     },
     "execution_count": 6,
     "metadata": {},
     "output_type": "execute_result"
    }
   ],
   "source": [
    "# What are the places Categorized for outbreak.\n",
    "df_outbreak_group= df_raw['outbreak_group'].unique()\n",
    "df_outbreak_group"
   ]
  },
  {
   "cell_type": "markdown",
   "id": "a8f8732f",
   "metadata": {},
   "source": [
    "## Insight 2 : In any group what are the cases recorded so far "
   ]
  },
  {
   "cell_type": "code",
   "execution_count": 7,
   "id": "9911932d",
   "metadata": {},
   "outputs": [
    {
     "data": {
      "text/plain": [
       "date                        2020-11-012020-11-012020-11-012020-11-012020-1...\n",
       "phu_name                    BRANT COUNTYCITY OF HAMILTONCITY OF OTTAWADURH...\n",
       "phu_num                                                              18573050\n",
       "outbreak_group              1 Congregate Care1 Congregate Care1 Congregate...\n",
       "number_ongoing_outbreaks                                                52037\n",
       "dtype: object"
      ]
     },
     "execution_count": 7,
     "metadata": {},
     "output_type": "execute_result"
    }
   ],
   "source": [
    "outbreaks_by_region =df_raw[df_raw['outbreak_group'] =='1 Congregate Care' ].sum()\n",
    "outbreaks_by_region\n"
   ]
  },
  {
   "cell_type": "markdown",
   "id": "18750726",
   "metadata": {},
   "source": [
    "Here we have seen that in 1 Congregate care there has been total 52037 number of out breaks recorded similary we can achieve the insight for any other places that are workplace, Education, living and other."
   ]
  },
  {
   "cell_type": "markdown",
   "id": "3862daf4",
   "metadata": {},
   "source": [
    "## Insight 3:  Find out which group has the maximum  and minimum  number of out breaks among outbreak groups "
   ]
  },
  {
   "cell_type": "code",
   "execution_count": 8,
   "id": "d4595457",
   "metadata": {},
   "outputs": [
    {
     "data": {
      "image/png": "[encoded data removed]",
      "text/plain": [
       "<Figure size 576x864 with 1 Axes>"
      ]
     },
     "metadata": {
      "needs_background": "light"
     },
     "output_type": "display_data"
    }
   ],
   "source": [
    "\n",
    "import matplotlib.pyplot as plt\n",
    "import seaborn as sns\n",
    "plt.figure(figsize=(8,12))\n",
    "plot = sns.barplot(df_raw['number_ongoing_outbreaks'], df_raw['outbreak_group'])"
   ]
  },
  {
   "cell_type": "markdown",
   "id": "aaa2d77f",
   "metadata": {},
   "source": [
    "Here we can see that congregate care recorded the highest hits and other/unknown sector have minimum outbreak."
   ]
  },
  {
   "cell_type": "markdown",
   "id": "2ea5cb71",
   "metadata": {},
   "source": [
    "## Insights 4: Find out the public health unit with maximum and minimum recorded cases."
   ]
  },
  {
   "cell_type": "code",
   "execution_count": 9,
   "id": "c4651999",
   "metadata": {},
   "outputs": [
    {
     "data": {
      "image/png": "[encoded data removed]",
      "text/plain": [
       "<Figure size 576x720 with 1 Axes>"
      ]
     },
     "metadata": {
      "needs_background": "light"
     },
     "output_type": "display_data"
    }
   ],
   "source": [
    "# Find out which phu has the maximun and minimum out breaks\n",
    "import matplotlib.pyplot as plt\n",
    "import seaborn as sns\n",
    "plt.figure(figsize=(8,10))\n",
    "plot = sns.barplot(df_raw['number_ongoing_outbreaks'], df_raw['phu_name'])"
   ]
  },
  {
   "cell_type": "markdown",
   "id": "b1d430e6",
   "metadata": {},
   "source": [
    "From the graph it is cleary seen that TORONTO has the maximum cases recorded and NORTH BAY PARRY SOUND DISTRICT has the least outbreak recorded."
   ]
  },
  {
   "cell_type": "code",
   "execution_count": 10,
   "id": "06c35f6d",
   "metadata": {},
   "outputs": [
    {
     "data": {
      "text/plain": [
       "date                        2020-11-252020-11-262020-11-272020-11-282020-1...\n",
       "phu_name                    NORTH BAY PARRY SOUND DISTRICTNORTH BAY PARRY ...\n",
       "phu_num                                                                772968\n",
       "outbreak_group              5 Recreational5 Recreational5 Recreational5 Re...\n",
       "number_ongoing_outbreaks                                                  371\n",
       "dtype: object"
      ]
     },
     "execution_count": 10,
     "metadata": {},
     "output_type": "execute_result"
    }
   ],
   "source": [
    "#  lets grab the  total number of out breaks in a region\n",
    "df_total_city = df_raw[df_raw['phu_name'] =='NORTH BAY PARRY SOUND DISTRICT' ].sum()\n",
    "df_total_city"
   ]
  },
  {
   "cell_type": "markdown",
   "id": "e6b2ec88",
   "metadata": {},
   "source": [
    "Here we see that NORTH BAY PARRY SOUND DISTRICT has 371 of the recorded cases ."
   ]
  },
  {
   "cell_type": "markdown",
   "id": "0608ce65",
   "metadata": {},
   "source": [
    "## Insight 5 Find out how the cases spiked from 2020 to 2021"
   ]
  },
  {
   "cell_type": "markdown",
   "id": "2a12e740",
   "metadata": {},
   "source": [
    "To do that, it would be easier if we had seperate month and year column so lets do that"
   ]
  },
  {
   "cell_type": "code",
   "execution_count": 11,
   "id": "0b856f2c",
   "metadata": {},
   "outputs": [
    {
     "data": {
      "text/html": [
       "<div>\n",
       "<style scoped>\n",
       "    .dataframe tbody tr th:only-of-type {\n",
       "        vertical-align: middle;\n",
       "    }\n",
       "\n",
       "    .dataframe tbody tr th {\n",
       "        vertical-align: top;\n",
       "    }\n",
       "\n",
       "    .dataframe thead th {\n",
       "        text-align: right;\n",
       "    }\n",
       "</style>\n",
       "<table border=\"1\" class=\"dataframe\">\n",
       "  <thead>\n",
       "    <tr style=\"text-align: right;\">\n",
       "      <th></th>\n",
       "      <th>date</th>\n",
       "      <th>phu_name</th>\n",
       "      <th>phu_num</th>\n",
       "      <th>outbreak_group</th>\n",
       "      <th>number_ongoing_outbreaks</th>\n",
       "      <th>year</th>\n",
       "      <th>month</th>\n",
       "    </tr>\n",
       "  </thead>\n",
       "  <tbody>\n",
       "    <tr>\n",
       "      <th>0</th>\n",
       "      <td>2020-11-01</td>\n",
       "      <td>BRANT COUNTY</td>\n",
       "      <td>2227</td>\n",
       "      <td>4 Workplace</td>\n",
       "      <td>1</td>\n",
       "      <td>2020</td>\n",
       "      <td>11</td>\n",
       "    </tr>\n",
       "    <tr>\n",
       "      <th>1</th>\n",
       "      <td>2020-11-01</td>\n",
       "      <td>BRANT COUNTY</td>\n",
       "      <td>2227</td>\n",
       "      <td>1 Congregate Care</td>\n",
       "      <td>2</td>\n",
       "      <td>2020</td>\n",
       "      <td>11</td>\n",
       "    </tr>\n",
       "    <tr>\n",
       "      <th>2</th>\n",
       "      <td>2020-11-01</td>\n",
       "      <td>CHATHAM-KENT</td>\n",
       "      <td>2240</td>\n",
       "      <td>5 Recreational</td>\n",
       "      <td>1</td>\n",
       "      <td>2020</td>\n",
       "      <td>11</td>\n",
       "    </tr>\n",
       "    <tr>\n",
       "      <th>3</th>\n",
       "      <td>2020-11-01</td>\n",
       "      <td>CHATHAM-KENT</td>\n",
       "      <td>2240</td>\n",
       "      <td>6 Other/Unknown</td>\n",
       "      <td>1</td>\n",
       "      <td>2020</td>\n",
       "      <td>11</td>\n",
       "    </tr>\n",
       "    <tr>\n",
       "      <th>4</th>\n",
       "      <td>2020-11-01</td>\n",
       "      <td>CHATHAM-KENT</td>\n",
       "      <td>2240</td>\n",
       "      <td>4 Workplace</td>\n",
       "      <td>1</td>\n",
       "      <td>2020</td>\n",
       "      <td>11</td>\n",
       "    </tr>\n",
       "    <tr>\n",
       "      <th>...</th>\n",
       "      <td>...</td>\n",
       "      <td>...</td>\n",
       "      <td>...</td>\n",
       "      <td>...</td>\n",
       "      <td>...</td>\n",
       "      <td>...</td>\n",
       "      <td>...</td>\n",
       "    </tr>\n",
       "    <tr>\n",
       "      <th>37904</th>\n",
       "      <td>2021-12-07</td>\n",
       "      <td>YORK REGION</td>\n",
       "      <td>2270</td>\n",
       "      <td>6 Other/Unknown</td>\n",
       "      <td>1</td>\n",
       "      <td>2021</td>\n",
       "      <td>12</td>\n",
       "    </tr>\n",
       "    <tr>\n",
       "      <th>37905</th>\n",
       "      <td>2021-12-07</td>\n",
       "      <td>YORK REGION</td>\n",
       "      <td>2270</td>\n",
       "      <td>4 Workplace</td>\n",
       "      <td>3</td>\n",
       "      <td>2021</td>\n",
       "      <td>12</td>\n",
       "    </tr>\n",
       "    <tr>\n",
       "      <th>37906</th>\n",
       "      <td>2021-12-07</td>\n",
       "      <td>YORK REGION</td>\n",
       "      <td>2270</td>\n",
       "      <td>3 Education</td>\n",
       "      <td>16</td>\n",
       "      <td>2021</td>\n",
       "      <td>12</td>\n",
       "    </tr>\n",
       "    <tr>\n",
       "      <th>37907</th>\n",
       "      <td>2021-12-07</td>\n",
       "      <td>YORK REGION</td>\n",
       "      <td>2270</td>\n",
       "      <td>2 Congregate Living</td>\n",
       "      <td>1</td>\n",
       "      <td>2021</td>\n",
       "      <td>12</td>\n",
       "    </tr>\n",
       "    <tr>\n",
       "      <th>37908</th>\n",
       "      <td>2021-12-07</td>\n",
       "      <td>YORK REGION</td>\n",
       "      <td>2270</td>\n",
       "      <td>1 Congregate Care</td>\n",
       "      <td>1</td>\n",
       "      <td>2021</td>\n",
       "      <td>12</td>\n",
       "    </tr>\n",
       "  </tbody>\n",
       "</table>\n",
       "<p>37909 rows × 7 columns</p>\n",
       "</div>"
      ],
      "text/plain": [
       "             date      phu_name  phu_num       outbreak_group  \\\n",
       "0      2020-11-01  BRANT COUNTY     2227          4 Workplace   \n",
       "1      2020-11-01  BRANT COUNTY     2227    1 Congregate Care   \n",
       "2      2020-11-01  CHATHAM-KENT     2240       5 Recreational   \n",
       "3      2020-11-01  CHATHAM-KENT     2240      6 Other/Unknown   \n",
       "4      2020-11-01  CHATHAM-KENT     2240          4 Workplace   \n",
       "...           ...           ...      ...                  ...   \n",
       "37904  2021-12-07   YORK REGION     2270      6 Other/Unknown   \n",
       "37905  2021-12-07   YORK REGION     2270          4 Workplace   \n",
       "37906  2021-12-07   YORK REGION     2270          3 Education   \n",
       "37907  2021-12-07   YORK REGION     2270  2 Congregate Living   \n",
       "37908  2021-12-07   YORK REGION     2270    1 Congregate Care   \n",
       "\n",
       "       number_ongoing_outbreaks  year  month  \n",
       "0                             1  2020     11  \n",
       "1                             2  2020     11  \n",
       "2                             1  2020     11  \n",
       "3                             1  2020     11  \n",
       "4                             1  2020     11  \n",
       "...                         ...   ...    ...  \n",
       "37904                         1  2021     12  \n",
       "37905                         3  2021     12  \n",
       "37906                        16  2021     12  \n",
       "37907                         1  2021     12  \n",
       "37908                         1  2021     12  \n",
       "\n",
       "[37909 rows x 7 columns]"
      ]
     },
     "execution_count": 11,
     "metadata": {},
     "output_type": "execute_result"
    }
   ],
   "source": [
    "# add new column year and month for ease of processing \n",
    "df_raw['year'] = pd.DatetimeIndex(df_raw['date']).year\n",
    "df_raw['month'] = pd.DatetimeIndex(df_raw['date']).month\n",
    "df_raw\n"
   ]
  },
  {
   "cell_type": "code",
   "execution_count": 12,
   "id": "c7dfd60c",
   "metadata": {},
   "outputs": [
    {
     "data": {
      "text/plain": [
       "<AxesSubplot:xlabel='year'>"
      ]
     },
     "execution_count": 12,
     "metadata": {},
     "output_type": "execute_result"
    },
    {
     "data": {
      "image/png": "[encoded data removed]",
      "text/plain": [
       "<Figure size 432x288 with 1 Axes>"
      ]
     },
     "metadata": {
      "needs_background": "light"
     },
     "output_type": "display_data"
    }
   ],
   "source": [
    "# How the cases spike from 2020 to 2021\n",
    "df_yearly_group = df_raw.groupby(['year'])['number_ongoing_outbreaks'].sum()\n",
    "df_yearly_group.describe\n",
    "df_yearly_group.plot()"
   ]
  },
  {
   "cell_type": "markdown",
   "id": "81c3f252",
   "metadata": {},
   "source": [
    "We can see the number escalating from 40000 to 140000 here."
   ]
  },
  {
   "cell_type": "markdown",
   "id": "af8e3f00",
   "metadata": {},
   "source": [
    "## Insights 6: Find out the monthly trend in year 2021"
   ]
  },
  {
   "cell_type": "code",
   "execution_count": 13,
   "id": "24175f6d",
   "metadata": {},
   "outputs": [
    {
     "data": {
      "text/plain": [
       "<AxesSubplot:xlabel='month'>"
      ]
     },
     "execution_count": 13,
     "metadata": {},
     "output_type": "execute_result"
    },
    {
     "data": {
      "image/png": "[encoded data removed]",
      "text/plain": [
       "<Figure size 432x288 with 1 Axes>"
      ]
     },
     "metadata": {
      "needs_background": "light"
     },
     "output_type": "display_data"
    }
   ],
   "source": [
    "# See the monthly trend for 2021 lets filter out the data for year 2021 and group by months to see the trend\n",
    "df_monthly = df_raw[df_raw['year'] == 2021]\n",
    "df_monthly_group = df_monthly.groupby(['month'])['number_ongoing_outbreaks'].sum()\n",
    "df_monthly_group.describe\n",
    "df_monthly_group.plot()\n",
    "\n"
   ]
  },
  {
   "cell_type": "markdown",
   "id": "9b6cc428",
   "metadata": {},
   "source": [
    "We can see the decreasing trend in from the begining of 2021 to end. "
   ]
  }
 ],
 "metadata": {
  "kernelspec": {
   "display_name": "Python 3 (ipykernel)",
   "language": "python",
   "name": "python3"
  },
  "language_info": {
   "codemirror_mode": {
    "name": "ipython",
    "version": 3
   },
   "file_extension": ".py",
   "mimetype": "text/x-python",
   "name": "python",
   "nbconvert_exporter": "python",
   "pygments_lexer": "ipython3",
   "version": "3.8.12"
  }
 },
 "nbformat": 4,
 "nbformat_minor": 5
}

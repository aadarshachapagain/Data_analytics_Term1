{
 "cells": [
  {
   "cell_type": "code",
   "execution_count": 3,
   "id": "46043b07",
   "metadata": {},
   "outputs": [],
   "source": [
    "import tweepy, codecs\n"
   ]
  },
  {
   "cell_type": "code",
   "execution_count": 6,
   "id": "38d9c416",
   "metadata": {},
   "outputs": [],
   "source": [
    "## fill in your Twitter credentials\n",
    "consumer_key = \"Nd1XKXyJC2KlgsyPgg8bGMVdM\"\n",
    "consumer_secret = \"zryy0i4IHNKN2EgAM7kwhONmB5lJ9J3V4PGnYHDm1Hf8SdFbhU\"\n",
    "access_token = \"2532281539-xPYgXcEEtvXhp48VQQrNwKEH8FfmkBfFsH5YbeK\"\n",
    "access_token_secret = \"jKRv71H3wdPS87X6WUzy6aghVQe9kdw5XEAQOInA5SkNx\""
   ]
  },
  {
   "cell_type": "code",
   "execution_count": 10,
   "id": "2c15e66b",
   "metadata": {},
   "outputs": [],
   "source": [
    "## let Tweepy set up an instance of the REST API\n",
    "auth = tweepy.OAuthHandler(consumer_key, consumer_secret)\n",
    "auth.set_access_token(access_token, access_token_secret)\n",
    "api = tweepy.API(auth)"
   ]
  },
  {
   "cell_type": "code",
   "execution_count": 83,
   "id": "da2094bf",
   "metadata": {},
   "outputs": [
    {
     "name": "stdout",
     "output_type": "stream",
     "text": [
      "clean_tweets: RT MaximeBernier There aren’t enough illegal migrants in Canada, so the Liberals have reopened Roxham road Will Trudeau tweet again to i…\n",
      "clean_tweets: RT MrStache9 The House just gave a standing ovation for the new Speaker Trudeau and Freeland and a another one or two did not stand\n"
     ]
    }
   ],
   "source": [
    "## fill in your search query and store your results in a variable\n",
    "results = api.search_tweets(q = \"trudeau\", lang = \"en\", result_type = \"recent\", count = 4)\n",
    "\n",
    "## use the codecs library to write the text of the Tweets to a .txt file\n",
    "file = codecs.open(\"./trudeau_tweets.txt\", \"w\", \"utf-8\")\n",
    "for result in results:\n",
    "    clean_tweets =  re.sub(r'[?|$|.|!|@|:|/|\\|&|;|]',r'',result.text)\n",
    "    print(\"clean_tweets:\",clean_tweets)\n",
    "    file.write(clean_tweets)\n",
    "    file.write(\"\\n\")\n",
    "file.close()"
   ]
  },
  {
   "cell_type": "code",
   "execution_count": 87,
   "id": "fd320bb1",
   "metadata": {},
   "outputs": [],
   "source": [
    "\n",
    "import http.client\n",
    "import json, re\n",
    "\n",
    "\n",
    "conn = http.client.HTTPSConnection(\"twinword-sentiment-analysis.p.rapidapi.com\")\n",
    "headers = {\n",
    "    'x-rapidapi-host': \"twinword-sentiment-analysis.p.rapidapi.com\",\n",
    "    'x-rapidapi-key': \"460cfb3b13msh1e96bee64b6afeap1d1871jsn7f099b402a70\"\n",
    "    }\n"
   ]
  },
  {
   "cell_type": "code",
   "execution_count": 88,
   "id": "d06c3cfb",
   "metadata": {},
   "outputs": [
    {
     "name": "stdout",
     "output_type": "stream",
     "text": [
      "countme: 1\n",
      "RT MaximeBernier There aren’t enough illegal migrants in Canada, so the Liberals have reopened Roxham road Will Trudeau tweet again to i…\n",
      "csv_second_column negative\n",
      "countme: 2\n",
      "RT MrStache9 The House just gave a standing ovation for the new Speaker Trudeau and Freeland and a another one or two did not stand\n",
      "csv_second_column neutral\n"
     ]
    }
   ],
   "source": [
    "import csv, io\n",
    "\n",
    "count=0\n",
    "with io.open('Trudeau_Tweets_polarized.csv', 'w', encoding='utf8', newline='') as csvfile:\n",
    "    csv_writer = csv.writer(csvfile)\n",
    "    csv_writer.writerow([\"Tweet\", \"Sentiment\"])\n",
    "    \n",
    "    with io.open(\"trudeau_tweets.txt\", 'r', encoding='utf8') as f:\n",
    "        for tweet in f.readlines():\n",
    "    ## Remove extra spaces or newlines around the text\n",
    "            tweet = tweet.strip()\n",
    "            count += 1\n",
    "            print(\"count:\",count)\n",
    "            \n",
    "        ## Format tweet in the request pattern  \n",
    "            tweet_tourl_string = urllib.request.pathname2url(tweet)\n",
    "            full_url = \"/analyze/?text=\" + tweet_tourl_string  \n",
    "            conn.request(\"GET\", full_url, headers=headers)\n",
    "\n",
    "\n",
    "            ## Reject tweets which are empty so you don’t waste your API credits\n",
    "            if len(tweet) == 0:\n",
    "                print('skipped')\n",
    "                continue\n",
    "\n",
    "\n",
    "            print(tweet)\n",
    "            conn.request(\"GET\", full_url, headers=headers)\n",
    "            res = conn.getresponse()\n",
    "            respBody = res.read()\n",
    "            sentiment = json.loads(respBody)\n",
    "            print(\"Sentiment:\", sentiment[\"type\"])\n",
    "            csv_writer.writerow([tweet, sentiment['type']])"
   ]
  },
  {
   "cell_type": "code",
   "execution_count": 95,
   "id": "ccba3a8a",
   "metadata": {},
   "outputs": [
    {
     "data": {
      "image/png": "[encoded data removed]",
      "text/plain": [
       "<Figure size 432x288 with 1 Axes>"
      ]
     },
     "metadata": {},
     "output_type": "display_data"
    }
   ],
   "source": [
    "\n",
    "## import the libraries\n",
    "import matplotlib.pyplot as plt\n",
    "import pandas as pd\n",
    "from collections import Counter\n",
    "import csv\n",
    "\n",
    "## open up your csv file with the sentiment results\n",
    "with open('Trudeau_Tweets_polarized.csv', 'r', encoding = 'utf8') as csvfile:\n",
    "## use Pandas to read the “Sentiment” column,\n",
    "    df = pd.read_csv(csvfile)\n",
    "    sent = df[\"Sentiment\"]\n",
    "\n",
    "## use Counter to count how many times each sentiment appears\n",
    "## and save each as a variable\n",
    "counter = Counter(sent)\n",
    "positive = counter['positive']\n",
    "negative = counter['negative']\n",
    "neutral = counter['neutral']\n",
    "\n",
    "## declare the variables for the pie chart, using the Counter variables for “sizes”\n",
    "labels = 'Positive', 'Negative', 'Neutral'\n",
    "sizes = [positive, negative, neutral]\n",
    "colors = ['green', 'red', 'grey']\n",
    "yourtext = \"Trudeau\"\n",
    "\n",
    "## use matplotlib to plot the chart\n",
    "plt.pie(sizes, labels = labels, colors = colors, shadow = True, startangle = 90)\n",
    "plt.title(\"Sentiment of 200 Tweets about \"+yourtext)\n",
    "plt.show()"
   ]
  },
  {
   "cell_type": "code",
   "execution_count": null,
   "id": "598a3c94",
   "metadata": {},
   "outputs": [],
   "source": []
  }
 ],
 "metadata": {
  "kernelspec": {
   "display_name": "Python 3",
   "language": "python",
   "name": "python3"
  },
  "language_info": {
   "codemirror_mode": {
    "name": "ipython",
    "version": 3
   },
   "file_extension": ".py",
   "mimetype": "text/x-python",
   "name": "python",
   "nbconvert_exporter": "python",
   "pygments_lexer": "ipython3",
   "version": "3.8.8"
  }
 },
 "nbformat": 4,
 "nbformat_minor": 5
}

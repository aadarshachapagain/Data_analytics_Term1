{
 "cells": [
  {
   "cell_type": "code",
   "execution_count": 1,
   "id": "46043b07",
   "metadata": {},
   "outputs": [],
   "source": [
    "import tweepy, codecs, re\n"
   ]
  },
  {
   "cell_type": "code",
   "execution_count": 2,
   "id": "38d9c416",
   "metadata": {},
   "outputs": [],
   "source": [
    "## fill in your Twitter credentials\n",
    "consumer_key = \"Nd1XKXyJC2KlgsyPgg8bGMVdM\"\n",
    "consumer_secret = \"zryy0i4IHNKN2EgAM7kwhONmB5lJ9J3V4PGnYHDm1Hf8SdFbhU\"\n",
    "access_token = \"2532281539-xPYgXcEEtvXhp48VQQrNwKEH8FfmkBfFsH5YbeK\"\n",
    "access_token_secret = \"jKRv71H3wdPS87X6WUzy6aghVQe9kdw5XEAQOInA5SkNx\""
   ]
  },
  {
   "cell_type": "code",
   "execution_count": 3,
   "id": "2c15e66b",
   "metadata": {},
   "outputs": [],
   "source": [
    "## let Tweepy set up an instance of the REST API\n",
    "auth = tweepy.OAuthHandler(consumer_key, consumer_secret)\n",
    "auth.set_access_token(access_token, access_token_secret)\n",
    "api = tweepy.API(auth)"
   ]
  },
  {
   "cell_type": "code",
   "execution_count": 4,
   "id": "da2094bf",
   "metadata": {},
   "outputs": [
    {
     "name": "stdout",
     "output_type": "stream",
     "text": [
      "clean_tweets: RT Evangelina3374 The real reason Trudeau is going into hiding is he doesn’t want to be around when the MaxwellEpstein shit hits the fan…\n",
      "clean_tweets: RT surreywillis Next time Trudeau visits a residential school or meets with a sovereign nation they should offer him a glass of it\n",
      "clean_tweets: RT disclosetv NEW - Canada's PM Trudeau \"You're gonna be able to get your vaccine as soon as you turn five I know you're excited, I kno…\n",
      "clean_tweets: RT TPostMillennial Trudeau \"You're gonna be able to get your vaccine as soon as you turn five  I know you're excited, I know you're e…\n"
     ]
    }
   ],
   "source": [
    "## fill in your search query and store your results in a variable\n",
    "results = api.search_tweets(q = \"trudeau\", lang = \"en\", result_type = \"recent\", count = 4)\n",
    "\n",
    "## use the codecs library to write the text of the Tweets to a .txt file\n",
    "file = codecs.open(\"./trudeau_tweets.txt\", \"w\", \"utf-8\")\n",
    "for result in results:\n",
    "    clean_tweets = re.sub(r'[?|$|.|!|@|:|/|\\|&|;|]',r'',result.text)\n",
    "    print(\"clean_tweets:\",clean_tweets)\n",
    "    file.write(clean_tweets)\n",
    "    file.write(\"\\n\")\n",
    "file.close()"
   ]
  },
  {
   "cell_type": "code",
   "execution_count": 5,
   "id": "fd320bb1",
   "metadata": {},
   "outputs": [],
   "source": [
    "\n",
    "import http.client\n",
    "import json, re\n",
    "\n",
    "\n",
    "\n"
   ]
  },
  {
   "cell_type": "code",
   "execution_count": 6,
   "id": "d06c3cfb",
   "metadata": {},
   "outputs": [
    {
     "name": "stdout",
     "output_type": "stream",
     "text": [
      "count: 1\n",
      "RT Evangelina3374 The real reason Trudeau is going into hiding is he doesn’t want to be around when the MaxwellEpstein shit hits the fan…\n"
     ]
    },
    {
     "ename": "CannotSendRequest",
     "evalue": "Request-sent",
     "output_type": "error",
     "traceback": [
      "\u001b[1;31m---------------------------------------------------------------------------\u001b[0m",
      "\u001b[1;31mCannotSendRequest\u001b[0m                         Traceback (most recent call last)",
      "\u001b[1;32m<ipython-input-6-13b82c3cf2e6>\u001b[0m in \u001b[0;36m<module>\u001b[1;34m\u001b[0m\n\u001b[0;32m     27\u001b[0m \u001b[1;33m\u001b[0m\u001b[0m\n\u001b[0;32m     28\u001b[0m             \u001b[0mprint\u001b[0m\u001b[1;33m(\u001b[0m\u001b[0mtweet\u001b[0m\u001b[1;33m)\u001b[0m\u001b[1;33m\u001b[0m\u001b[1;33m\u001b[0m\u001b[0m\n\u001b[1;32m---> 29\u001b[1;33m             \u001b[0mconn\u001b[0m\u001b[1;33m.\u001b[0m\u001b[0mrequest\u001b[0m\u001b[1;33m(\u001b[0m\u001b[1;34m\"GET\"\u001b[0m\u001b[1;33m,\u001b[0m \u001b[0mfull_url\u001b[0m\u001b[1;33m,\u001b[0m \u001b[0mheaders\u001b[0m\u001b[1;33m=\u001b[0m\u001b[0mheaders\u001b[0m\u001b[1;33m)\u001b[0m\u001b[1;33m\u001b[0m\u001b[1;33m\u001b[0m\u001b[0m\n\u001b[0m\u001b[0;32m     30\u001b[0m             \u001b[0mres\u001b[0m \u001b[1;33m=\u001b[0m \u001b[0mconn\u001b[0m\u001b[1;33m.\u001b[0m\u001b[0mgetresponse\u001b[0m\u001b[1;33m(\u001b[0m\u001b[1;33m)\u001b[0m\u001b[1;33m\u001b[0m\u001b[1;33m\u001b[0m\u001b[0m\n\u001b[0;32m     31\u001b[0m             \u001b[0mrespBody\u001b[0m \u001b[1;33m=\u001b[0m \u001b[0mres\u001b[0m\u001b[1;33m.\u001b[0m\u001b[0mread\u001b[0m\u001b[1;33m(\u001b[0m\u001b[1;33m)\u001b[0m\u001b[1;33m\u001b[0m\u001b[1;33m\u001b[0m\u001b[0m\n",
      "\u001b[1;32mE:\\Anaconda\\lib\\http\\client.py\u001b[0m in \u001b[0;36mrequest\u001b[1;34m(self, method, url, body, headers, encode_chunked)\u001b[0m\n\u001b[0;32m   1253\u001b[0m                 encode_chunked=False):\n\u001b[0;32m   1254\u001b[0m         \u001b[1;34m\"\"\"Send a complete request to the server.\"\"\"\u001b[0m\u001b[1;33m\u001b[0m\u001b[1;33m\u001b[0m\u001b[0m\n\u001b[1;32m-> 1255\u001b[1;33m         \u001b[0mself\u001b[0m\u001b[1;33m.\u001b[0m\u001b[0m_send_request\u001b[0m\u001b[1;33m(\u001b[0m\u001b[0mmethod\u001b[0m\u001b[1;33m,\u001b[0m \u001b[0murl\u001b[0m\u001b[1;33m,\u001b[0m \u001b[0mbody\u001b[0m\u001b[1;33m,\u001b[0m \u001b[0mheaders\u001b[0m\u001b[1;33m,\u001b[0m \u001b[0mencode_chunked\u001b[0m\u001b[1;33m)\u001b[0m\u001b[1;33m\u001b[0m\u001b[1;33m\u001b[0m\u001b[0m\n\u001b[0m\u001b[0;32m   1256\u001b[0m \u001b[1;33m\u001b[0m\u001b[0m\n\u001b[0;32m   1257\u001b[0m     \u001b[1;32mdef\u001b[0m \u001b[0m_send_request\u001b[0m\u001b[1;33m(\u001b[0m\u001b[0mself\u001b[0m\u001b[1;33m,\u001b[0m \u001b[0mmethod\u001b[0m\u001b[1;33m,\u001b[0m \u001b[0murl\u001b[0m\u001b[1;33m,\u001b[0m \u001b[0mbody\u001b[0m\u001b[1;33m,\u001b[0m \u001b[0mheaders\u001b[0m\u001b[1;33m,\u001b[0m \u001b[0mencode_chunked\u001b[0m\u001b[1;33m)\u001b[0m\u001b[1;33m:\u001b[0m\u001b[1;33m\u001b[0m\u001b[1;33m\u001b[0m\u001b[0m\n",
      "\u001b[1;32mE:\\Anaconda\\lib\\http\\client.py\u001b[0m in \u001b[0;36m_send_request\u001b[1;34m(self, method, url, body, headers, encode_chunked)\u001b[0m\n\u001b[0;32m   1264\u001b[0m             \u001b[0mskips\u001b[0m\u001b[1;33m[\u001b[0m\u001b[1;34m'skip_accept_encoding'\u001b[0m\u001b[1;33m]\u001b[0m \u001b[1;33m=\u001b[0m \u001b[1;36m1\u001b[0m\u001b[1;33m\u001b[0m\u001b[1;33m\u001b[0m\u001b[0m\n\u001b[0;32m   1265\u001b[0m \u001b[1;33m\u001b[0m\u001b[0m\n\u001b[1;32m-> 1266\u001b[1;33m         \u001b[0mself\u001b[0m\u001b[1;33m.\u001b[0m\u001b[0mputrequest\u001b[0m\u001b[1;33m(\u001b[0m\u001b[0mmethod\u001b[0m\u001b[1;33m,\u001b[0m \u001b[0murl\u001b[0m\u001b[1;33m,\u001b[0m \u001b[1;33m**\u001b[0m\u001b[0mskips\u001b[0m\u001b[1;33m)\u001b[0m\u001b[1;33m\u001b[0m\u001b[1;33m\u001b[0m\u001b[0m\n\u001b[0m\u001b[0;32m   1267\u001b[0m \u001b[1;33m\u001b[0m\u001b[0m\n\u001b[0;32m   1268\u001b[0m         \u001b[1;31m# chunked encoding will happen if HTTP/1.1 is used and either\u001b[0m\u001b[1;33m\u001b[0m\u001b[1;33m\u001b[0m\u001b[1;33m\u001b[0m\u001b[0m\n",
      "\u001b[1;32mE:\\Anaconda\\lib\\http\\client.py\u001b[0m in \u001b[0;36mputrequest\u001b[1;34m(self, method, url, skip_host, skip_accept_encoding)\u001b[0m\n\u001b[0;32m   1090\u001b[0m             \u001b[0mself\u001b[0m\u001b[1;33m.\u001b[0m\u001b[0m__state\u001b[0m \u001b[1;33m=\u001b[0m \u001b[0m_CS_REQ_STARTED\u001b[0m\u001b[1;33m\u001b[0m\u001b[1;33m\u001b[0m\u001b[0m\n\u001b[0;32m   1091\u001b[0m         \u001b[1;32melse\u001b[0m\u001b[1;33m:\u001b[0m\u001b[1;33m\u001b[0m\u001b[1;33m\u001b[0m\u001b[0m\n\u001b[1;32m-> 1092\u001b[1;33m             \u001b[1;32mraise\u001b[0m \u001b[0mCannotSendRequest\u001b[0m\u001b[1;33m(\u001b[0m\u001b[0mself\u001b[0m\u001b[1;33m.\u001b[0m\u001b[0m__state\u001b[0m\u001b[1;33m)\u001b[0m\u001b[1;33m\u001b[0m\u001b[1;33m\u001b[0m\u001b[0m\n\u001b[0m\u001b[0;32m   1093\u001b[0m \u001b[1;33m\u001b[0m\u001b[0m\n\u001b[0;32m   1094\u001b[0m         \u001b[0mself\u001b[0m\u001b[1;33m.\u001b[0m\u001b[0m_validate_method\u001b[0m\u001b[1;33m(\u001b[0m\u001b[0mmethod\u001b[0m\u001b[1;33m)\u001b[0m\u001b[1;33m\u001b[0m\u001b[1;33m\u001b[0m\u001b[0m\n",
      "\u001b[1;31mCannotSendRequest\u001b[0m: Request-sent"
     ]
    }
   ],
   "source": [
    "import csv, io\n",
    "import urllib\n",
    "\n",
    "count=0\n",
    "with io.open('Trudeau_Tweets_polarized.csv', 'w', encoding='utf8', newline='') as csvfile:\n",
    "    csv_writer = csv.writer(csvfile)\n",
    "    csv_writer.writerow([\"Tweet\", \"Sentiment\"])\n",
    "    \n",
    "    with io.open(\"trudeau_tweets.txt\", 'r', encoding='utf8') as f:\n",
    "        for tweet in f.readlines():\n",
    "    ## Remove extra spaces or newlines around the text\n",
    "            conn = http.client.HTTPSConnection(\"twinword-sentiment-analysis.p.rapidapi.com\")\n",
    "headers = {\n",
    "    'x-rapidapi-host': \"twinword-sentiment-analysis.p.rapidapi.com\",\n",
    "    'x-rapidapi-key': \"460cfb3b13msh1e96bee64b6afeap1d1871jsn7f099b402a70\"\n",
    "    }\n",
    "            tweet = tweet.strip()\n",
    "            count += 1\n",
    "            print(\"count:\",count)\n",
    "            \n",
    "        ## Format tweet in the request pattern  \n",
    "            tweet_tourl_string = urllib.request.pathname2url(tweet)\n",
    "            full_url = \"/analyze/?text=\" + tweet_tourl_string  \n",
    "            conn.request(\"GET\", full_url, headers=headers)\n",
    "\n",
    "\n",
    "            ## Reject tweets which are empty so you don’t waste your API credits\n",
    "            if len(tweet) == 0:\n",
    "                print('skipped')\n",
    "                continue\n",
    "\n",
    "\n",
    "            print(tweet)\n",
    "            conn.request(\"GET\", full_url, headers=headers)\n",
    "            res = conn.getresponse()\n",
    "            respBody = res.read()\n",
    "            sentiment = json.loads(respBody)\n",
    "            print(\"Sentiment:\", sentiment[\"type\"])\n",
    "            csv_writer.writerow([tweet, sentiment['type']])"
   ]
  },
  {
   "cell_type": "code",
   "execution_count": null,
   "id": "ccba3a8a",
   "metadata": {},
   "outputs": [],
   "source": [
    "\n",
    "## import the libraries\n",
    "import matplotlib.pyplot as plt\n",
    "import pandas as pd\n",
    "from collections import Counter\n",
    "import csv\n",
    "\n",
    "## open up your csv file with the sentiment results\n",
    "with open('Trudeau_Tweets_polarized.csv', 'r', encoding = 'utf8') as csvfile:\n",
    "## use Pandas to read the “Sentiment” column,\n",
    "    df = pd.read_csv(csvfile)\n",
    "    sent = df[\"Sentiment\"]\n",
    "\n",
    "## use Counter to count how many times each sentiment appears\n",
    "## and save each as a variable\n",
    "counter = Counter(sent)\n",
    "positive = counter['positive']\n",
    "negative = counter['negative']\n",
    "neutral = counter['neutral']\n",
    "\n",
    "## declare the variables for the pie chart, using the Counter variables for “sizes”\n",
    "labels = 'Positive', 'Negative', 'Neutral'\n",
    "sizes = [positive, negative, neutral]\n",
    "colors = ['green', 'red', 'grey']\n",
    "yourtext = \"Trudeau\"\n",
    "\n",
    "## use matplotlib to plot the chart\n",
    "plt.pie(sizes, labels = labels, colors = colors, shadow = True, startangle = 90)\n",
    "plt.title(\"Sentiment of 200 Tweets about \"+yourtext)\n",
    "plt.show()"
   ]
  },
  {
   "cell_type": "code",
   "execution_count": null,
   "id": "598a3c94",
   "metadata": {},
   "outputs": [],
   "source": []
  }
 ],
 "metadata": {
  "kernelspec": {
   "display_name": "Python 3",
   "language": "python",
   "name": "python3"
  },
  "language_info": {
   "codemirror_mode": {
    "name": "ipython",
    "version": 3
   },
   "file_extension": ".py",
   "mimetype": "text/x-python",
   "name": "python",
   "nbconvert_exporter": "python",
   "pygments_lexer": "ipython3",
   "version": "3.8.8"
  }
 },
 "nbformat": 4,
 "nbformat_minor": 5
}

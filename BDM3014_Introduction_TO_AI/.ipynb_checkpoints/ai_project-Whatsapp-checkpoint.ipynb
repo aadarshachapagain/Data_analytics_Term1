{
 "cells": [
  {
   "cell_type": "code",
   "execution_count": 9,
   "id": "46043b07",
   "metadata": {},
   "outputs": [],
   "source": [
    "import tweepy, codecs\n"
   ]
  },
  {
   "cell_type": "code",
   "execution_count": 10,
   "id": "38d9c416",
   "metadata": {},
   "outputs": [],
   "source": [
    "## fill in your Twitter credentials\n",
    "# consumer_key = \"your_consumer_key_from_twitter\"\n",
    "# consumer_secret = \"your_consumer_secret_from_twitter\"\n",
    "# access_token = \"your_access_token\"\n",
    "# access_token_secret = \"your_access_token\"\n",
    "\n",
    "consumer_key = \"Nd1XKXyJC2KlgsyPgg8bGMVdM\"\n",
    "consumer_secret = \"zryy0i4IHNKN2EgAM7kwhONmB5lJ9J3V4PGnYHDm1Hf8SdFbhU\"\n",
    "access_token = \"2532281539-xPYgXcEEtvXhp48VQQrNwKEH8FfmkBfFsH5YbeK\"\n",
    "access_token_secret = \"jKRv71H3wdPS87X6WUzy6aghVQe9kdw5XEAQOInA5SkNx\""
   ]
  },
  {
   "cell_type": "code",
   "execution_count": 11,
   "id": "2c15e66b",
   "metadata": {},
   "outputs": [],
   "source": [
    "## let Tweepy set up an instance of the REST API\n",
    "auth = tweepy.OAuthHandler(consumer_key, consumer_secret)\n",
    "auth.set_access_token(access_token, access_token_secret)\n",
    "api = tweepy.API(auth)"
   ]
  },
  {
   "cell_type": "code",
   "execution_count": 12,
   "id": "da2094bf",
   "metadata": {},
   "outputs": [
    {
     "name": "stdout",
     "output_type": "stream",
     "text": [
      "clean_tweets: RT albertaseparate Why does every Justin Trudeau speech sound like it was written for a Miss America Pageant\n",
      "\n",
      "Retweet if you Agree\n",
      "\n",
      "#alb…\n",
      "clean_tweets: RT BernieSpofforth CANADA - Trudeau manically announces vaccinations are starting for 5 year olds\n",
      "\n",
      "A society that uses it future, to pro…\n",
      "clean_tweets: RT SwissChard86 Oh yea and he’s buds with Trudeau Little vacation with some other political friends httpstco4Tp9NATbrL\n",
      "clean_tweets: RT SemperSitiens krisster8 Yes we do  but they should be legitimate qualified immigrants who have been accepted through official cha…\n"
     ]
    }
   ],
   "source": [
    "import re\n",
    "## fill in your search query and store your results in a variable\n",
    "results = api.search_tweets(q = \"trudeau\", lang = \"en\", result_type = \"recent\", count = 4)\n",
    "\n",
    "## use the codecs library to write the text of the Tweets to a .txt file\n",
    "file = codecs.open(\"./trudeau_tweets.txt\", \"w\", \"utf-8\")\n",
    "for result in results:\n",
    "    clean_tweets =  re.sub(r'[?|$|.|!|@|:|/|\\|&|;|]',r'',result.text)\n",
    "    print(\"clean_tweets:\",clean_tweets)\n",
    "    file.write(clean_tweets)\n",
    "    file.write(\"\\n\")\n",
    "file.close()"
   ]
  },
  {
   "cell_type": "code",
   "execution_count": 6,
   "id": "fd320bb1",
   "metadata": {},
   "outputs": [],
   "source": [
    "\n",
    "# import http.client\n",
    "# import json, re\n",
    "\n",
    "\n",
    "# conn = http.client.HTTPSConnection(\"twinword-sentiment-analysis.p.rapidapi.com\")\n",
    "# # headers = {\n",
    "# #     'x-rapidapi-host': \"twinword-sentiment-analysis.p.rapidapi.com\",\n",
    "# #     'x-rapidapi-key': \"your_key_from_rapid_api\"\n",
    "# #     }\n",
    "# headers = {\n",
    "#     'x-rapidapi-host': \"twinword-sentiment-analysis.p.rapidapi.com\",\n",
    "#     'x-rapidapi-key': \"460cfb3b13msh1e96bee64b6afeap1d1871jsn7f099b402a70\"\n",
    "#     }\n"
   ]
  },
  {
   "cell_type": "code",
   "execution_count": 15,
   "id": "d06c3cfb",
   "metadata": {},
   "outputs": [
    {
     "name": "stdout",
     "output_type": "stream",
     "text": [
      "count: 1\n",
      "tweet RT albertaseparate Why does every Justin Trudeau speech sound like it was written for a Miss America Pageant\n",
      "Sentiment: positive\n",
      "count: 2\n",
      "skipped\n",
      "count: 3\n",
      "tweet Retweet if you Agree\n",
      "Sentiment: positive\n",
      "count: 4\n",
      "skipped\n",
      "count: 5\n",
      "tweet #alb…\n",
      "Sentiment: neutral\n",
      "count: 6\n",
      "tweet RT BernieSpofforth CANADA - Trudeau manically announces vaccinations are starting for 5 year olds\n",
      "Sentiment: negative\n",
      "count: 7\n",
      "skipped\n",
      "count: 8\n",
      "tweet A society that uses it future, to pro…\n",
      "Sentiment: positive\n",
      "count: 9\n",
      "tweet RT SwissChard86 Oh yea and he’s buds with Trudeau Little vacation with some other political friends httpstco4Tp9NATbrL\n",
      "Sentiment: positive\n",
      "count: 10\n",
      "tweet RT SemperSitiens krisster8 Yes we do  but they should be legitimate qualified immigrants who have been accepted through official cha…\n",
      "Sentiment: positive\n"
     ]
    }
   ],
   "source": [
    "import csv, io,urllib,http.client,json\n",
    "\n",
    "count=0\n",
    "with io.open('Trudeau_Tweets_polarized.csv', 'w', encoding='utf8', newline='') as csvfile:\n",
    "    csv_writer = csv.writer(csvfile)\n",
    "    csv_writer.writerow([\"Tweet\", \"Sentiment\"])\n",
    "    \n",
    "    with io.open(\"trudeau_tweets.txt\", 'r', encoding='utf8') as f:\n",
    "        for tweet in f.readlines():\n",
    "    ## Remove extra spaces or newlines around the text\n",
    "            \n",
    "            tweet = tweet.strip()\n",
    "            count += 1\n",
    "            print(\"count:\",count)\n",
    "            \n",
    "        ## Format tweet in the request pattern  \n",
    "            tweet_tourl_string = urllib.request.pathname2url(tweet)\n",
    "            full_url = \"/analyze/?text=\" + tweet_tourl_string\n",
    "            conn = http.client.HTTPSConnection(\"twinword-sentiment-analysis.p.rapidapi.com\")\n",
    "           \n",
    "\n",
    "\n",
    "            ## Reject tweets which are empty so you don’t waste your API credits\n",
    "            if len(tweet) == 0:\n",
    "                print('skipped')\n",
    "                continue\n",
    "\n",
    "#             print(\"tweet\", tweet)\n",
    "            headers = {\n",
    "                        'x-rapidapi-host': \"twinword-sentiment-analysis.p.rapidapi.com\",\n",
    "                        'x-rapidapi-key': \"460cfb3b13msh1e96bee64b6afeap1d1871jsn7f099b402a70\"\n",
    "                        }       \n",
    "            conn.request(\"GET\", full_url, headers=headers)\n",
    "            res = conn.getresponse()\n",
    "            respBody = res.read()\n",
    "            sentiment = json.loads(respBody)\n",
    "#             print(\"Sentiment:\", sentiment[\"type\"])\n",
    "            csv_writer.writerow([tweet, sentiment['type']])\n",
    "            conn.close()"
   ]
  },
  {
   "cell_type": "code",
   "execution_count": 16,
   "id": "ccba3a8a",
   "metadata": {},
   "outputs": [
    {
     "data": {
      "image/png": "[encoded data removed]",
      "text/plain": [
       "<Figure size 432x288 with 1 Axes>"
      ]
     },
     "metadata": {},
     "output_type": "display_data"
    }
   ],
   "source": [
    "\n",
    "## import the libraries\n",
    "import matplotlib.pyplot as plt\n",
    "import pandas as pd\n",
    "from collections import Counter\n",
    "import csv\n",
    "\n",
    "## open up your csv file with the sentiment results\n",
    "with open('Trudeau_Tweets_polarized.csv', 'r', encoding = 'utf8') as csvfile:\n",
    "## use Pandas to read the “Sentiment” column,\n",
    "    df = pd.read_csv(csvfile)\n",
    "    sent = df[\"Sentiment\"]\n",
    "\n",
    "## use Counter to count how many times each sentiment appears\n",
    "## and save each as a variable\n",
    "counter = Counter(sent)\n",
    "positive = counter['positive']\n",
    "negative = counter['negative']\n",
    "neutral = counter['neutral']\n",
    "\n",
    "## declare the variables for the pie chart, using the Counter variables for “sizes”\n",
    "labels = 'Positive', 'Negative', 'Neutral'\n",
    "sizes = [positive, negative, neutral]\n",
    "colors = ['green', 'red', 'grey']\n",
    "yourtext = \"Trudeau\"\n",
    "\n",
    "## use matplotlib to plot the chart\n",
    "plt.pie(sizes, labels = labels, colors = colors, shadow = True, startangle = 90)\n",
    "plt.title(\"Sentiment of 200 Tweets about \"+yourtext)\n",
    "plt.show()"
   ]
  },
  {
   "cell_type": "code",
   "execution_count": null,
   "id": "598a3c94",
   "metadata": {},
   "outputs": [],
   "source": []
  }
 ],
 "metadata": {
  "kernelspec": {
   "display_name": "Python 3",
   "language": "python",
   "name": "python3"
  },
  "language_info": {
   "codemirror_mode": {
    "name": "ipython",
    "version": 3
   },
   "file_extension": ".py",
   "mimetype": "text/x-python",
   "name": "python",
   "nbconvert_exporter": "python",
   "pygments_lexer": "ipython3",
   "version": "3.8.8"
  }
 },
 "nbformat": 4,
 "nbformat_minor": 5
}

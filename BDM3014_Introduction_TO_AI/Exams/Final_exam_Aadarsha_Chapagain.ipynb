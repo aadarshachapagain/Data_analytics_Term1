{
 "cells": [
  {
   "cell_type": "code",
   "execution_count": 1,
   "id": "5ad3d259",
   "metadata": {},
   "outputs": [],
   "source": [
    "from sklearn.datasets import load_digits\n",
    "import warnings\n",
    "warnings.filterwarnings(\"ignore\")\n",
    "digits = load_digits()"
   ]
  },
  {
   "cell_type": "code",
   "execution_count": 2,
   "id": "69d090ef",
   "metadata": {},
   "outputs": [
    {
     "name": "stdout",
     "output_type": "stream",
     "text": [
      "Data Shape (1797, 64)\n",
      "Data Shape of label (1797,)\n"
     ]
    },
    {
     "data": {
      "text/plain": [
       "['DESCR', 'data', 'feature_names', 'frame', 'images', 'target', 'target_names']"
      ]
     },
     "execution_count": 2,
     "metadata": {},
     "output_type": "execute_result"
    }
   ],
   "source": [
    "# Check the shape of data set and features of the dataset\n",
    "print(\"Data Shape\" , digits.data.shape)\n",
    "print(\"Data Shape of label\", digits.target.shape)\n",
    "dir(digits)\n"
   ]
  },
  {
   "cell_type": "markdown",
   "id": "b43737b2",
   "metadata": {},
   "source": [
    "It shows that our data is 2d array which have 1797 number of row and 64 column. Those 64 are actual 8*8 representation of pixels."
   ]
  },
  {
   "cell_type": "code",
   "execution_count": 3,
   "id": "2d57e001",
   "metadata": {
    "scrolled": true
   },
   "outputs": [
    {
     "data": {
      "image/png": "[encoded data removed]",
      "text/plain": [
       "<Figure size 1440x288 with 6 Axes>"
      ]
     },
     "metadata": {
      "needs_background": "light"
     },
     "output_type": "display_data"
    }
   ],
   "source": [
    "# Lets See the image that we are working with\n",
    "import numpy as np \n",
    "import matplotlib.pyplot as plt\n",
    "plt.figure(figsize=(20,4))\n",
    "for index, (image, label) in enumerate(zip(digits.data[0:6], digits.target[0:6])):\n",
    "  plt.subplot(1, 6, index + 1)\n",
    "  plt.imshow(np.reshape(image, (8,8)) )\n",
    "  plt.title('Training: %d' % label, fontsize = 18)"
   ]
  },
  {
   "cell_type": "markdown",
   "id": "f20bc82e",
   "metadata": {},
   "source": [
    "Here We have just plotted six images and their labels"
   ]
  },
  {
   "cell_type": "code",
   "execution_count": 4,
   "id": "60446ba4",
   "metadata": {},
   "outputs": [],
   "source": [
    "# Lets split the data set into training and test data sets. \n",
    "from sklearn.model_selection import train_test_split\n",
    "x_train, x_test, y_train, y_test = train_test_split(digits.data, \n",
    "                                                    digits.target, test_size=0.25, \n",
    "                                                    random_state=5)\n",
    "# Here we have splitted the data set into 75 % training and 25% test dataset."
   ]
  },
  {
   "cell_type": "markdown",
   "id": "53cea0e0",
   "metadata": {},
   "source": [
    "## Logistic Regression\n"
   ]
  },
  {
   "cell_type": "code",
   "execution_count": 5,
   "id": "cca33900",
   "metadata": {},
   "outputs": [
    {
     "data": {
      "text/plain": [
       "LogisticRegression()"
      ]
     },
     "execution_count": 5,
     "metadata": {},
     "output_type": "execute_result"
    }
   ],
   "source": [
    "# Create model of logistic regression and train the model\n",
    "from sklearn.linear_model import LogisticRegression\n",
    "model = LogisticRegression()\n",
    "model.fit(x_train, y_train)"
   ]
  },
  {
   "cell_type": "code",
   "execution_count": 6,
   "id": "689f632d",
   "metadata": {},
   "outputs": [],
   "source": [
    "#  lets predict in test data\n",
    "predictions = model.predict(x_test)"
   ]
  },
  {
   "cell_type": "code",
   "execution_count": 7,
   "id": "ac6ce7a2",
   "metadata": {},
   "outputs": [
    {
     "name": "stdout",
     "output_type": "stream",
     "text": [
      "0.96\n"
     ]
    }
   ],
   "source": [
    "# Accuracy using Logistic Regression\n",
    "score = model.score(x_test, y_test)\n",
    "print(score)"
   ]
  },
  {
   "cell_type": "code",
   "execution_count": 8,
   "id": "bfe7f191",
   "metadata": {},
   "outputs": [
    {
     "name": "stdout",
     "output_type": "stream",
     "text": [
      "[[47  0  0  0  0  0  0  0  0  0]\n",
      " [ 0 46  0  1  0  0  0  0  0  0]\n",
      " [ 0  1 46  0  0  0  0  0  0  0]\n",
      " [ 0  0  1 44  0  1  0  0  1  0]\n",
      " [ 0  2  0  0 33  0  0  1  0  0]\n",
      " [ 0  0  0  0  1 52  0  0  0  2]\n",
      " [ 0  0  0  0  0  0 36  0  1  0]\n",
      " [ 0  0  0  0  1  0  0 50  0  1]\n",
      " [ 0  1  1  0  0  0  0  0 38  1]\n",
      " [ 0  1  0  0  0  0  0  0  0 40]]\n"
     ]
    }
   ],
   "source": [
    "# Confusion matrix\n",
    "import matplotlib.pyplot as plt\n",
    "import seaborn as sns\n",
    "from sklearn import metrics\n",
    "cm = metrics.confusion_matrix(y_test, predictions)\n",
    "print(cm)"
   ]
  },
  {
   "cell_type": "markdown",
   "id": "0ce1d2d3",
   "metadata": {},
   "source": [
    "Lets Try to use Different Algorithm Now"
   ]
  },
  {
   "cell_type": "markdown",
   "id": "0fd5cbb4",
   "metadata": {},
   "source": [
    "## k-nearest Neighbors"
   ]
  },
  {
   "cell_type": "code",
   "execution_count": 9,
   "id": "bb4c0bfb",
   "metadata": {},
   "outputs": [],
   "source": [
    "\n",
    "from sklearn.neighbors import KNeighborsClassifier\n",
    "k_model = KNeighborsClassifier(n_neighbors=3)"
   ]
  },
  {
   "cell_type": "code",
   "execution_count": 10,
   "id": "d27e61b2",
   "metadata": {},
   "outputs": [
    {
     "data": {
      "text/plain": [
       "KNeighborsClassifier(n_neighbors=3)"
      ]
     },
     "execution_count": 10,
     "metadata": {},
     "output_type": "execute_result"
    }
   ],
   "source": [
    "k_model.fit(x_train, y_train)"
   ]
  },
  {
   "cell_type": "code",
   "execution_count": 11,
   "id": "56eb05a3",
   "metadata": {},
   "outputs": [],
   "source": [
    "#  lets predict in test data\n",
    "k_predictions = k_model.predict(x_test)"
   ]
  },
  {
   "cell_type": "code",
   "execution_count": 12,
   "id": "6356ecca",
   "metadata": {},
   "outputs": [
    {
     "name": "stdout",
     "output_type": "stream",
     "text": [
      "0.9888888888888889\n"
     ]
    }
   ],
   "source": [
    "# Accuracy using Logistic Regression\n",
    "score = k_model.score(x_test, y_test)\n",
    "print(score)"
   ]
  },
  {
   "cell_type": "code",
   "execution_count": 13,
   "id": "6476468c",
   "metadata": {},
   "outputs": [
    {
     "name": "stdout",
     "output_type": "stream",
     "text": [
      "[[47  0  0  0  0  0  0  0  0  0]\n",
      " [ 0 47  0  0  0  0  0  0  0  0]\n",
      " [ 0  0 47  0  0  0  0  0  0  0]\n",
      " [ 0  0  0 47  0  0  0  0  0  0]\n",
      " [ 0  0  0  0 36  0  0  0  0  0]\n",
      " [ 0  0  0  0  0 55  0  0  0  0]\n",
      " [ 0  0  0  0  0  0 36  0  1  0]\n",
      " [ 0  0  0  0  0  0  0 51  0  1]\n",
      " [ 0  1  0  0  0  0  0  0 40  0]\n",
      " [ 0  1  0  0  0  1  0  0  0 39]]\n"
     ]
    }
   ],
   "source": [
    "# Confusion matrix\n",
    "import matplotlib.pyplot as plt\n",
    "import seaborn as sns\n",
    "from sklearn import metrics\n",
    "k_cm = metrics.confusion_matrix(y_test, k_predictions)\n",
    "print(k_cm)"
   ]
  },
  {
   "cell_type": "markdown",
   "id": "ab03be68",
   "metadata": {},
   "source": [
    "We have used two algorithms here Logistic Regression and K Nearest neighbour and we can see that k-nearest Neighbour give more accuracy of 99 % as compared to Logistic Regression which gave 96%. "
   ]
  }
 ],
 "metadata": {
  "kernelspec": {
   "display_name": "Python 3 (ipykernel)",
   "language": "python",
   "name": "python3"
  },
  "language_info": {
   "codemirror_mode": {
    "name": "ipython",
    "version": 3
   },
   "file_extension": ".py",
   "mimetype": "text/x-python",
   "name": "python",
   "nbconvert_exporter": "python",
   "pygments_lexer": "ipython3",
   "version": "3.8.12"
  }
 },
 "nbformat": 4,
 "nbformat_minor": 5
}

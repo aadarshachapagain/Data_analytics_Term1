{
 "cells": [
  {
   "cell_type": "code",
   "execution_count": 1,
   "id": "931730a4",
   "metadata": {},
   "outputs": [],
   "source": [
    "\n",
    "from matplotlib import pyplot as plt\n",
    "import numpy as np\n",
    "import pandas as pd\n",
    "from sklearn.linear_model import LogisticRegression\n",
    "from sklearn.model_selection import train_test_split\n",
    "from sklearn import metrics\n",
    "import seaborn as sns\n"
   ]
  },
  {
   "cell_type": "markdown",
   "id": "ba747c50",
   "metadata": {},
   "source": [
    "1.We will use acoustic features to distinguish a male voice from female. Load the dataset from “voice.csv”, identify the target variable and do a one-hot encoding for the same. Split the dataset in train-test with 20% of the data kept aside for testing.  [Hint: Refer to LabelEncoder documentation in scikit-learn]"
   ]
  },
  {
   "cell_type": "code",
   "execution_count": 2,
   "id": "676222f5",
   "metadata": {},
   "outputs": [
    {
     "data": {
      "text/html": [
       "<div>\n",
       "<style scoped>\n",
       "    .dataframe tbody tr th:only-of-type {\n",
       "        vertical-align: middle;\n",
       "    }\n",
       "\n",
       "    .dataframe tbody tr th {\n",
       "        vertical-align: top;\n",
       "    }\n",
       "\n",
       "    .dataframe thead th {\n",
       "        text-align: right;\n",
       "    }\n",
       "</style>\n",
       "<table border=\"1\" class=\"dataframe\">\n",
       "  <thead>\n",
       "    <tr style=\"text-align: right;\">\n",
       "      <th></th>\n",
       "      <th>meanfreq</th>\n",
       "      <th>sd</th>\n",
       "      <th>median</th>\n",
       "      <th>Q25</th>\n",
       "      <th>Q75</th>\n",
       "      <th>IQR</th>\n",
       "      <th>skew</th>\n",
       "      <th>kurt</th>\n",
       "      <th>sp.ent</th>\n",
       "      <th>sfm</th>\n",
       "      <th>...</th>\n",
       "      <th>centroid</th>\n",
       "      <th>meanfun</th>\n",
       "      <th>minfun</th>\n",
       "      <th>maxfun</th>\n",
       "      <th>meandom</th>\n",
       "      <th>mindom</th>\n",
       "      <th>maxdom</th>\n",
       "      <th>dfrange</th>\n",
       "      <th>modindx</th>\n",
       "      <th>label</th>\n",
       "    </tr>\n",
       "  </thead>\n",
       "  <tbody>\n",
       "    <tr>\n",
       "      <th>0</th>\n",
       "      <td>0.059781</td>\n",
       "      <td>0.064241</td>\n",
       "      <td>0.032027</td>\n",
       "      <td>0.015071</td>\n",
       "      <td>0.090193</td>\n",
       "      <td>0.075122</td>\n",
       "      <td>12.863462</td>\n",
       "      <td>274.402906</td>\n",
       "      <td>0.893369</td>\n",
       "      <td>0.491918</td>\n",
       "      <td>...</td>\n",
       "      <td>0.059781</td>\n",
       "      <td>0.084279</td>\n",
       "      <td>0.015702</td>\n",
       "      <td>0.275862</td>\n",
       "      <td>0.007812</td>\n",
       "      <td>0.007812</td>\n",
       "      <td>0.007812</td>\n",
       "      <td>0.000000</td>\n",
       "      <td>0.000000</td>\n",
       "      <td>male</td>\n",
       "    </tr>\n",
       "    <tr>\n",
       "      <th>1</th>\n",
       "      <td>0.066009</td>\n",
       "      <td>0.067310</td>\n",
       "      <td>0.040229</td>\n",
       "      <td>0.019414</td>\n",
       "      <td>0.092666</td>\n",
       "      <td>0.073252</td>\n",
       "      <td>22.423285</td>\n",
       "      <td>634.613855</td>\n",
       "      <td>0.892193</td>\n",
       "      <td>0.513724</td>\n",
       "      <td>...</td>\n",
       "      <td>0.066009</td>\n",
       "      <td>0.107937</td>\n",
       "      <td>0.015826</td>\n",
       "      <td>0.250000</td>\n",
       "      <td>0.009014</td>\n",
       "      <td>0.007812</td>\n",
       "      <td>0.054688</td>\n",
       "      <td>0.046875</td>\n",
       "      <td>0.052632</td>\n",
       "      <td>male</td>\n",
       "    </tr>\n",
       "    <tr>\n",
       "      <th>2</th>\n",
       "      <td>0.077316</td>\n",
       "      <td>0.083829</td>\n",
       "      <td>0.036718</td>\n",
       "      <td>0.008701</td>\n",
       "      <td>0.131908</td>\n",
       "      <td>0.123207</td>\n",
       "      <td>30.757155</td>\n",
       "      <td>1024.927705</td>\n",
       "      <td>0.846389</td>\n",
       "      <td>0.478905</td>\n",
       "      <td>...</td>\n",
       "      <td>0.077316</td>\n",
       "      <td>0.098706</td>\n",
       "      <td>0.015656</td>\n",
       "      <td>0.271186</td>\n",
       "      <td>0.007990</td>\n",
       "      <td>0.007812</td>\n",
       "      <td>0.015625</td>\n",
       "      <td>0.007812</td>\n",
       "      <td>0.046512</td>\n",
       "      <td>male</td>\n",
       "    </tr>\n",
       "    <tr>\n",
       "      <th>3</th>\n",
       "      <td>0.151228</td>\n",
       "      <td>0.072111</td>\n",
       "      <td>0.158011</td>\n",
       "      <td>0.096582</td>\n",
       "      <td>0.207955</td>\n",
       "      <td>0.111374</td>\n",
       "      <td>1.232831</td>\n",
       "      <td>4.177296</td>\n",
       "      <td>0.963322</td>\n",
       "      <td>0.727232</td>\n",
       "      <td>...</td>\n",
       "      <td>0.151228</td>\n",
       "      <td>0.088965</td>\n",
       "      <td>0.017798</td>\n",
       "      <td>0.250000</td>\n",
       "      <td>0.201497</td>\n",
       "      <td>0.007812</td>\n",
       "      <td>0.562500</td>\n",
       "      <td>0.554688</td>\n",
       "      <td>0.247119</td>\n",
       "      <td>male</td>\n",
       "    </tr>\n",
       "    <tr>\n",
       "      <th>4</th>\n",
       "      <td>0.135120</td>\n",
       "      <td>0.079146</td>\n",
       "      <td>0.124656</td>\n",
       "      <td>0.078720</td>\n",
       "      <td>0.206045</td>\n",
       "      <td>0.127325</td>\n",
       "      <td>1.101174</td>\n",
       "      <td>4.333713</td>\n",
       "      <td>0.971955</td>\n",
       "      <td>0.783568</td>\n",
       "      <td>...</td>\n",
       "      <td>0.135120</td>\n",
       "      <td>0.106398</td>\n",
       "      <td>0.016931</td>\n",
       "      <td>0.266667</td>\n",
       "      <td>0.712812</td>\n",
       "      <td>0.007812</td>\n",
       "      <td>5.484375</td>\n",
       "      <td>5.476562</td>\n",
       "      <td>0.208274</td>\n",
       "      <td>male</td>\n",
       "    </tr>\n",
       "  </tbody>\n",
       "</table>\n",
       "<p>5 rows × 21 columns</p>\n",
       "</div>"
      ],
      "text/plain": [
       "   meanfreq        sd    median       Q25       Q75       IQR       skew  \\\n",
       "0  0.059781  0.064241  0.032027  0.015071  0.090193  0.075122  12.863462   \n",
       "1  0.066009  0.067310  0.040229  0.019414  0.092666  0.073252  22.423285   \n",
       "2  0.077316  0.083829  0.036718  0.008701  0.131908  0.123207  30.757155   \n",
       "3  0.151228  0.072111  0.158011  0.096582  0.207955  0.111374   1.232831   \n",
       "4  0.135120  0.079146  0.124656  0.078720  0.206045  0.127325   1.101174   \n",
       "\n",
       "          kurt    sp.ent       sfm  ...  centroid   meanfun    minfun  \\\n",
       "0   274.402906  0.893369  0.491918  ...  0.059781  0.084279  0.015702   \n",
       "1   634.613855  0.892193  0.513724  ...  0.066009  0.107937  0.015826   \n",
       "2  1024.927705  0.846389  0.478905  ...  0.077316  0.098706  0.015656   \n",
       "3     4.177296  0.963322  0.727232  ...  0.151228  0.088965  0.017798   \n",
       "4     4.333713  0.971955  0.783568  ...  0.135120  0.106398  0.016931   \n",
       "\n",
       "     maxfun   meandom    mindom    maxdom   dfrange   modindx  label  \n",
       "0  0.275862  0.007812  0.007812  0.007812  0.000000  0.000000   male  \n",
       "1  0.250000  0.009014  0.007812  0.054688  0.046875  0.052632   male  \n",
       "2  0.271186  0.007990  0.007812  0.015625  0.007812  0.046512   male  \n",
       "3  0.250000  0.201497  0.007812  0.562500  0.554688  0.247119   male  \n",
       "4  0.266667  0.712812  0.007812  5.484375  5.476562  0.208274   male  \n",
       "\n",
       "[5 rows x 21 columns]"
      ]
     },
     "execution_count": 2,
     "metadata": {},
     "output_type": "execute_result"
    }
   ],
   "source": [
    "df_voices = pd.read_csv(\"voice.csv\")\n",
    "df_voices.head()"
   ]
  },
  {
   "cell_type": "markdown",
   "id": "652cdce5",
   "metadata": {},
   "source": [
    "Map the label as male:0 and female:1"
   ]
  },
  {
   "cell_type": "code",
   "execution_count": 3,
   "id": "8681c0be",
   "metadata": {},
   "outputs": [],
   "source": [
    "df_voices[\"label\"] = df_voices[\"label\"].map({\"male\":\"0\", \"female\":\"1\"})"
   ]
  },
  {
   "cell_type": "markdown",
   "id": "b5a6a9a8",
   "metadata": {},
   "source": [
    "take all rows and column from 0 to 19 as features into X"
   ]
  },
  {
   "cell_type": "code",
   "execution_count": 4,
   "id": "0207d28e",
   "metadata": {},
   "outputs": [],
   "source": [
    "X = df_voices.iloc[:,0:19]"
   ]
  },
  {
   "cell_type": "markdown",
   "id": "32909eea",
   "metadata": {},
   "source": [
    "Take the last column or label column as Y or target(label)"
   ]
  },
  {
   "cell_type": "code",
   "execution_count": 5,
   "id": "64928aa1",
   "metadata": {},
   "outputs": [],
   "source": [
    "Y = df_voices[\"label\"]"
   ]
  },
  {
   "cell_type": "markdown",
   "id": "27ed78ae",
   "metadata": {},
   "source": [
    "2.Fit a logistic regression model and measure the accuracy on the test set. [Hint: Refer to Linear Models section in scikit-learn]"
   ]
  },
  {
   "cell_type": "markdown",
   "id": "e2eab2d2",
   "metadata": {},
   "source": [
    "Split the data set into training and testing data set (80/20) with ramdom_state or suffling factor(beforing apllying split) of 20"
   ]
  },
  {
   "cell_type": "code",
   "execution_count": 6,
   "id": "382993cb",
   "metadata": {},
   "outputs": [],
   "source": [
    "train_x, test_x, train_y, test_y = train_test_split(X, Y,test_size = 0.20, random_state=0) \n"
   ]
  },
  {
   "cell_type": "markdown",
   "id": "a2dd130b",
   "metadata": {},
   "source": [
    "create the logisticRegression and train the model using .fit method and with max_iterantion of 1000"
   ]
  },
  {
   "cell_type": "code",
   "execution_count": 7,
   "id": "a3d01df1",
   "metadata": {},
   "outputs": [
    {
     "data": {
      "text/plain": [
       "LogisticRegression(max_iter=1000)"
      ]
     },
     "execution_count": 7,
     "metadata": {},
     "output_type": "execute_result"
    }
   ],
   "source": [
    "ln_model = LogisticRegression(solver='lbfgs', max_iter=1000)\n",
    "ln_model.fit(train_x, train_y)"
   ]
  },
  {
   "cell_type": "markdown",
   "id": "e1387eec",
   "metadata": {},
   "source": [
    "Now use prediction on the test data set"
   ]
  },
  {
   "cell_type": "code",
   "execution_count": 8,
   "id": "0ca1e9e2",
   "metadata": {},
   "outputs": [],
   "source": [
    "predicted_data = ln_model.predict(test_x)"
   ]
  },
  {
   "cell_type": "markdown",
   "id": "79a8e99b",
   "metadata": {},
   "source": [
    " check the accuracy of the predicted test data"
   ]
  },
  {
   "cell_type": "code",
   "execution_count": 9,
   "id": "83bce04e",
   "metadata": {},
   "outputs": [
    {
     "data": {
      "text/plain": [
       "0.9116719242902208"
      ]
     },
     "execution_count": 9,
     "metadata": {},
     "output_type": "execute_result"
    }
   ],
   "source": [
    "metrics.accuracy_score(predicted_data, test_y)"
   ]
  },
  {
   "cell_type": "markdown",
   "id": "3fe4cd61",
   "metadata": {},
   "source": [
    "The accuracy appears to be 91 percent which is pretty good"
   ]
  },
  {
   "cell_type": "markdown",
   "id": "2b0147fd",
   "metadata": {},
   "source": [
    "3.Compute the correlation matrix that describes the dependence between all predictors and identify the predictors that are highly correlated.  Plot the correlation matrix using seaborn heatmap. [Hint: Explore dataframe methods to identify appropriate method]"
   ]
  },
  {
   "cell_type": "code",
   "execution_count": 10,
   "id": "22e465cf",
   "metadata": {},
   "outputs": [],
   "source": [
    "corr = df_voices.corr()"
   ]
  },
  {
   "cell_type": "code",
   "execution_count": 11,
   "id": "2cc7c807",
   "metadata": {},
   "outputs": [
    {
     "data": {
      "image/png": "[encoded data removed]",
      "text/plain": [
       "<Figure size 432x288 with 2 Axes>"
      ]
     },
     "metadata": {
      "needs_background": "light"
     },
     "output_type": "display_data"
    }
   ],
   "source": [
    "sns.heatmap(corr)\n",
    "plt.show()"
   ]
  },
  {
   "cell_type": "markdown",
   "id": "971dd205",
   "metadata": {},
   "source": [
    "Here strong correlated columns pair are (\"meanfreq\" -> \"median\", \"Q25\", \"centroid\"),(\"Q25\" -> \"centroid\")(\"maxdom\" -> \"dfrange\") So that we can keep drop one of them each"
   ]
  },
  {
   "cell_type": "code",
   "execution_count": 13,
   "id": "18b93649",
   "metadata": {},
   "outputs": [],
   "source": [
    "X = X.drop(\"median\",axis=1)\n",
    "X = X.drop(\"Q25\",axis=1)\n",
    "X = X.drop(\"centroid\",axis=1)\n",
    "X = X.drop(\"dfrange\",axis=1)"
   ]
  },
  {
   "cell_type": "code",
   "execution_count": 15,
   "id": "4d02ae96",
   "metadata": {},
   "outputs": [],
   "source": [
    "# split  dataset that have dropped some co-related columns\n",
    "train_x, test_x, train_y, test_y = train_test_split(X, Y, random_state = 10, test_size = 0.20)"
   ]
  },
  {
   "cell_type": "code",
   "execution_count": 16,
   "id": "c474b45c",
   "metadata": {},
   "outputs": [
    {
     "data": {
      "text/plain": [
       "LogisticRegression(max_iter=1000)"
      ]
     },
     "execution_count": 16,
     "metadata": {},
     "output_type": "execute_result"
    }
   ],
   "source": [
    "#train the model with modified data set \n",
    "ln_model = LogisticRegression(solver='lbfgs', max_iter=1000)\n",
    "ln_model.fit(train_x, train_y)"
   ]
  },
  {
   "cell_type": "code",
   "execution_count": 17,
   "id": "cef7c9f5",
   "metadata": {},
   "outputs": [
    {
     "data": {
      "text/plain": [
       "0.916403785488959"
      ]
     },
     "execution_count": 17,
     "metadata": {},
     "output_type": "execute_result"
    }
   ],
   "source": [
    "# predict using data set and obtain accuracy\n",
    "predicted_data = ln_model.predict(test_x)\n",
    "metrics.accuracy_score(predicted_data, test_y)"
   ]
  },
  {
   "cell_type": "code",
   "execution_count": null,
   "id": "b6d96e51",
   "metadata": {},
   "outputs": [],
   "source": []
  }
 ],
 "metadata": {
  "kernelspec": {
   "display_name": "Python 3 (ipykernel)",
   "language": "python",
   "name": "python3"
  },
  "language_info": {
   "codemirror_mode": {
    "name": "ipython",
    "version": 3
   },
   "file_extension": ".py",
   "mimetype": "text/x-python",
   "name": "python",
   "nbconvert_exporter": "python",
   "pygments_lexer": "ipython3",
   "version": "3.8.12"
  }
 },
 "nbformat": 4,
 "nbformat_minor": 5
}
